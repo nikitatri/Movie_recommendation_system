{
 "cells": [
  {
   "cell_type": "code",
   "execution_count": 1,
   "id": "9b87ef70",
   "metadata": {
    "_cell_guid": "b1076dfc-b9ad-4769-8c92-a6c4dae69d19",
    "_uuid": "8f2839f25d086af736a60e9eeb907d3b93b6e0e5",
    "execution": {
     "iopub.execute_input": "2023-07-23T15:18:37.949935Z",
     "iopub.status.busy": "2023-07-23T15:18:37.949545Z",
     "iopub.status.idle": "2023-07-23T15:18:39.705239Z",
     "shell.execute_reply": "2023-07-23T15:18:39.704259Z"
    },
    "papermill": {
     "duration": 1.769781,
     "end_time": "2023-07-23T15:18:39.707941",
     "exception": false,
     "start_time": "2023-07-23T15:18:37.938160",
     "status": "completed"
    },
    "tags": []
   },
   "outputs": [
    {
     "name": "stderr",
     "output_type": "stream",
     "text": [
      "/opt/conda/lib/python3.10/site-packages/scipy/__init__.py:146: UserWarning: A NumPy version >=1.16.5 and <1.23.0 is required for this version of SciPy (detected version 1.23.5\n",
      "  warnings.warn(f\"A NumPy version >={np_minversion} and <{np_maxversion}\"\n"
     ]
    }
   ],
   "source": [
    "import numpy as np\n",
    "import pandas as pd  \n",
    "import ast\n",
    "from sklearn.feature_extraction.text import CountVectorizer\n",
    "import nltk\n",
    "from nltk.stem.porter import PorterStemmer\n",
    "from sklearn.metrics.pairwise import cosine_similarity"
   ]
  },
  {
   "cell_type": "code",
   "execution_count": 2,
   "id": "625ba9b2",
   "metadata": {
    "execution": {
     "iopub.execute_input": "2023-07-23T15:18:39.728512Z",
     "iopub.status.busy": "2023-07-23T15:18:39.727716Z",
     "iopub.status.idle": "2023-07-23T15:18:40.647197Z",
     "shell.execute_reply": "2023-07-23T15:18:40.646127Z"
    },
    "papermill": {
     "duration": 0.932812,
     "end_time": "2023-07-23T15:18:40.650156",
     "exception": false,
     "start_time": "2023-07-23T15:18:39.717344",
     "status": "completed"
    },
    "tags": []
   },
   "outputs": [],
   "source": [
    "credits_df = pd.read_csv(\"/kaggle/input/movie-recommend-dataset/credits.csv\")\n",
    "movies_df = pd.read_csv(\"/kaggle/input/movie-recommend-dataset/movies.csv\")"
   ]
  },
  {
   "cell_type": "code",
   "execution_count": 3,
   "id": "2ec7e382",
   "metadata": {
    "execution": {
     "iopub.execute_input": "2023-07-23T15:18:40.677129Z",
     "iopub.status.busy": "2023-07-23T15:18:40.675872Z",
     "iopub.status.idle": "2023-07-23T15:18:40.683702Z",
     "shell.execute_reply": "2023-07-23T15:18:40.682632Z"
    },
    "papermill": {
     "duration": 0.022192,
     "end_time": "2023-07-23T15:18:40.686012",
     "exception": false,
     "start_time": "2023-07-23T15:18:40.663820",
     "status": "completed"
    },
    "tags": []
   },
   "outputs": [],
   "source": [
    "pd.set_option('display.max_columns', None)\n",
    "pd.set_option('display.max_rows', None)"
   ]
  },
  {
   "cell_type": "code",
   "execution_count": 4,
   "id": "db1e5e54",
   "metadata": {
    "execution": {
     "iopub.execute_input": "2023-07-23T15:18:40.706625Z",
     "iopub.status.busy": "2023-07-23T15:18:40.705705Z",
     "iopub.status.idle": "2023-07-23T15:18:40.750313Z",
     "shell.execute_reply": "2023-07-23T15:18:40.749130Z"
    },
    "papermill": {
     "duration": 0.057704,
     "end_time": "2023-07-23T15:18:40.752772",
     "exception": false,
     "start_time": "2023-07-23T15:18:40.695068",
     "status": "completed"
    },
    "tags": []
   },
   "outputs": [
    {
     "data": {
      "text/plain": [
       "(4808, 23)"
      ]
     },
     "execution_count": 4,
     "metadata": {},
     "output_type": "execute_result"
    }
   ],
   "source": [
    "movies_df = movies_df.merge(credits_df, on='title')\n",
    "movies_df.shape"
   ]
  },
  {
   "cell_type": "code",
   "execution_count": 5,
   "id": "bf7b7329",
   "metadata": {
    "execution": {
     "iopub.execute_input": "2023-07-23T15:18:40.773351Z",
     "iopub.status.busy": "2023-07-23T15:18:40.772581Z",
     "iopub.status.idle": "2023-07-23T15:18:40.806456Z",
     "shell.execute_reply": "2023-07-23T15:18:40.805050Z"
    },
    "papermill": {
     "duration": 0.046986,
     "end_time": "2023-07-23T15:18:40.808933",
     "exception": false,
     "start_time": "2023-07-23T15:18:40.761947",
     "status": "completed"
    },
    "tags": []
   },
   "outputs": [
    {
     "name": "stdout",
     "output_type": "stream",
     "text": [
      "<class 'pandas.core.frame.DataFrame'>\n",
      "Int64Index: 4808 entries, 0 to 4807\n",
      "Data columns (total 23 columns):\n",
      " #   Column                Non-Null Count  Dtype  \n",
      "---  ------                --------------  -----  \n",
      " 0   budget                4808 non-null   int64  \n",
      " 1   genres                4808 non-null   object \n",
      " 2   homepage              1713 non-null   object \n",
      " 3   id                    4808 non-null   int64  \n",
      " 4   keywords              4808 non-null   object \n",
      " 5   original_language     4808 non-null   object \n",
      " 6   original_title        4808 non-null   object \n",
      " 7   overview              4805 non-null   object \n",
      " 8   popularity            4808 non-null   float64\n",
      " 9   production_companies  4808 non-null   object \n",
      " 10  production_countries  4808 non-null   object \n",
      " 11  release_date          4807 non-null   object \n",
      " 12  revenue               4808 non-null   int64  \n",
      " 13  runtime               4806 non-null   float64\n",
      " 14  spoken_languages      4808 non-null   object \n",
      " 15  status                4808 non-null   object \n",
      " 16  tagline               3964 non-null   object \n",
      " 17  title                 4808 non-null   object \n",
      " 18  vote_average          4808 non-null   float64\n",
      " 19  vote_count            4808 non-null   int64  \n",
      " 20  movie_id              4808 non-null   int64  \n",
      " 21  cast                  4808 non-null   object \n",
      " 22  crew                  4808 non-null   object \n",
      "dtypes: float64(3), int64(5), object(15)\n",
      "memory usage: 901.5+ KB\n"
     ]
    }
   ],
   "source": [
    "movies_df.info()"
   ]
  },
  {
   "cell_type": "code",
   "execution_count": 6,
   "id": "7e88af37",
   "metadata": {
    "execution": {
     "iopub.execute_input": "2023-07-23T15:18:40.829153Z",
     "iopub.status.busy": "2023-07-23T15:18:40.828740Z",
     "iopub.status.idle": "2023-07-23T15:18:40.853272Z",
     "shell.execute_reply": "2023-07-23T15:18:40.852435Z"
    },
    "papermill": {
     "duration": 0.037326,
     "end_time": "2023-07-23T15:18:40.855545",
     "exception": false,
     "start_time": "2023-07-23T15:18:40.818219",
     "status": "completed"
    },
    "tags": []
   },
   "outputs": [
    {
     "data": {
      "text/html": [
       "<div>\n",
       "<style scoped>\n",
       "    .dataframe tbody tr th:only-of-type {\n",
       "        vertical-align: middle;\n",
       "    }\n",
       "\n",
       "    .dataframe tbody tr th {\n",
       "        vertical-align: top;\n",
       "    }\n",
       "\n",
       "    .dataframe thead th {\n",
       "        text-align: right;\n",
       "    }\n",
       "</style>\n",
       "<table border=\"1\" class=\"dataframe\">\n",
       "  <thead>\n",
       "    <tr style=\"text-align: right;\">\n",
       "      <th></th>\n",
       "      <th>movie_id</th>\n",
       "      <th>title</th>\n",
       "      <th>overview</th>\n",
       "      <th>genres</th>\n",
       "      <th>keywords</th>\n",
       "      <th>cast</th>\n",
       "      <th>crew</th>\n",
       "    </tr>\n",
       "  </thead>\n",
       "  <tbody>\n",
       "    <tr>\n",
       "      <th>0</th>\n",
       "      <td>19995</td>\n",
       "      <td>Avatar</td>\n",
       "      <td>In the 22nd century, a paraplegic Marine is di...</td>\n",
       "      <td>[{\"id\": 28, \"name\": \"Action\"}, {\"id\": 12, \"nam...</td>\n",
       "      <td>[{\"id\": 1463, \"name\": \"culture clash\"}, {\"id\":...</td>\n",
       "      <td>[{\"cast_id\": 242, \"character\": \"Jake Sully\", \"...</td>\n",
       "      <td>[{\"credit_id\": \"52fe48009251416c750aca23\", \"de...</td>\n",
       "    </tr>\n",
       "    <tr>\n",
       "      <th>1</th>\n",
       "      <td>285</td>\n",
       "      <td>Pirates of the Caribbean: At World's End</td>\n",
       "      <td>Captain Barbossa, long believed to be dead, ha...</td>\n",
       "      <td>[{\"id\": 12, \"name\": \"Adventure\"}, {\"id\": 14, \"...</td>\n",
       "      <td>[{\"id\": 270, \"name\": \"ocean\"}, {\"id\": 726, \"na...</td>\n",
       "      <td>[{\"cast_id\": 4, \"character\": \"Captain Jack Spa...</td>\n",
       "      <td>[{\"credit_id\": \"52fe4232c3a36847f800b579\", \"de...</td>\n",
       "    </tr>\n",
       "    <tr>\n",
       "      <th>2</th>\n",
       "      <td>206647</td>\n",
       "      <td>Spectre</td>\n",
       "      <td>A cryptic message from Bond’s past sends him o...</td>\n",
       "      <td>[{\"id\": 28, \"name\": \"Action\"}, {\"id\": 12, \"nam...</td>\n",
       "      <td>[{\"id\": 470, \"name\": \"spy\"}, {\"id\": 818, \"name...</td>\n",
       "      <td>[{\"cast_id\": 1, \"character\": \"James Bond\", \"cr...</td>\n",
       "      <td>[{\"credit_id\": \"54805967c3a36829b5002c41\", \"de...</td>\n",
       "    </tr>\n",
       "    <tr>\n",
       "      <th>3</th>\n",
       "      <td>49026</td>\n",
       "      <td>The Dark Knight Rises</td>\n",
       "      <td>Following the death of District Attorney Harve...</td>\n",
       "      <td>[{\"id\": 28, \"name\": \"Action\"}, {\"id\": 80, \"nam...</td>\n",
       "      <td>[{\"id\": 849, \"name\": \"dc comics\"}, {\"id\": 853,...</td>\n",
       "      <td>[{\"cast_id\": 2, \"character\": \"Bruce Wayne / Ba...</td>\n",
       "      <td>[{\"credit_id\": \"52fe4781c3a36847f81398c3\", \"de...</td>\n",
       "    </tr>\n",
       "    <tr>\n",
       "      <th>4</th>\n",
       "      <td>49529</td>\n",
       "      <td>John Carter</td>\n",
       "      <td>John Carter is a war-weary, former military ca...</td>\n",
       "      <td>[{\"id\": 28, \"name\": \"Action\"}, {\"id\": 12, \"nam...</td>\n",
       "      <td>[{\"id\": 818, \"name\": \"based on novel\"}, {\"id\":...</td>\n",
       "      <td>[{\"cast_id\": 5, \"character\": \"John Carter\", \"c...</td>\n",
       "      <td>[{\"credit_id\": \"52fe479ac3a36847f813eaa3\", \"de...</td>\n",
       "    </tr>\n",
       "  </tbody>\n",
       "</table>\n",
       "</div>"
      ],
      "text/plain": [
       "   movie_id                                     title  \\\n",
       "0     19995                                    Avatar   \n",
       "1       285  Pirates of the Caribbean: At World's End   \n",
       "2    206647                                   Spectre   \n",
       "3     49026                     The Dark Knight Rises   \n",
       "4     49529                               John Carter   \n",
       "\n",
       "                                            overview  \\\n",
       "0  In the 22nd century, a paraplegic Marine is di...   \n",
       "1  Captain Barbossa, long believed to be dead, ha...   \n",
       "2  A cryptic message from Bond’s past sends him o...   \n",
       "3  Following the death of District Attorney Harve...   \n",
       "4  John Carter is a war-weary, former military ca...   \n",
       "\n",
       "                                              genres  \\\n",
       "0  [{\"id\": 28, \"name\": \"Action\"}, {\"id\": 12, \"nam...   \n",
       "1  [{\"id\": 12, \"name\": \"Adventure\"}, {\"id\": 14, \"...   \n",
       "2  [{\"id\": 28, \"name\": \"Action\"}, {\"id\": 12, \"nam...   \n",
       "3  [{\"id\": 28, \"name\": \"Action\"}, {\"id\": 80, \"nam...   \n",
       "4  [{\"id\": 28, \"name\": \"Action\"}, {\"id\": 12, \"nam...   \n",
       "\n",
       "                                            keywords  \\\n",
       "0  [{\"id\": 1463, \"name\": \"culture clash\"}, {\"id\":...   \n",
       "1  [{\"id\": 270, \"name\": \"ocean\"}, {\"id\": 726, \"na...   \n",
       "2  [{\"id\": 470, \"name\": \"spy\"}, {\"id\": 818, \"name...   \n",
       "3  [{\"id\": 849, \"name\": \"dc comics\"}, {\"id\": 853,...   \n",
       "4  [{\"id\": 818, \"name\": \"based on novel\"}, {\"id\":...   \n",
       "\n",
       "                                                cast  \\\n",
       "0  [{\"cast_id\": 242, \"character\": \"Jake Sully\", \"...   \n",
       "1  [{\"cast_id\": 4, \"character\": \"Captain Jack Spa...   \n",
       "2  [{\"cast_id\": 1, \"character\": \"James Bond\", \"cr...   \n",
       "3  [{\"cast_id\": 2, \"character\": \"Bruce Wayne / Ba...   \n",
       "4  [{\"cast_id\": 5, \"character\": \"John Carter\", \"c...   \n",
       "\n",
       "                                                crew  \n",
       "0  [{\"credit_id\": \"52fe48009251416c750aca23\", \"de...  \n",
       "1  [{\"credit_id\": \"52fe4232c3a36847f800b579\", \"de...  \n",
       "2  [{\"credit_id\": \"54805967c3a36829b5002c41\", \"de...  \n",
       "3  [{\"credit_id\": \"52fe4781c3a36847f81398c3\", \"de...  \n",
       "4  [{\"credit_id\": \"52fe479ac3a36847f813eaa3\", \"de...  "
      ]
     },
     "execution_count": 6,
     "metadata": {},
     "output_type": "execute_result"
    }
   ],
   "source": [
    "movies_df = movies_df[['movie_id', 'title','overview','genres','keywords','cast','crew']]\n",
    "movies_df.head()"
   ]
  },
  {
   "cell_type": "code",
   "execution_count": 7,
   "id": "30d11495",
   "metadata": {
    "execution": {
     "iopub.execute_input": "2023-07-23T15:18:40.877270Z",
     "iopub.status.busy": "2023-07-23T15:18:40.876230Z",
     "iopub.status.idle": "2023-07-23T15:18:40.895454Z",
     "shell.execute_reply": "2023-07-23T15:18:40.894291Z"
    },
    "papermill": {
     "duration": 0.032461,
     "end_time": "2023-07-23T15:18:40.897636",
     "exception": false,
     "start_time": "2023-07-23T15:18:40.865175",
     "status": "completed"
    },
    "tags": []
   },
   "outputs": [
    {
     "name": "stdout",
     "output_type": "stream",
     "text": [
      "<class 'pandas.core.frame.DataFrame'>\n",
      "Int64Index: 4808 entries, 0 to 4807\n",
      "Data columns (total 7 columns):\n",
      " #   Column    Non-Null Count  Dtype \n",
      "---  ------    --------------  ----- \n",
      " 0   movie_id  4808 non-null   int64 \n",
      " 1   title     4808 non-null   object\n",
      " 2   overview  4805 non-null   object\n",
      " 3   genres    4808 non-null   object\n",
      " 4   keywords  4808 non-null   object\n",
      " 5   cast      4808 non-null   object\n",
      " 6   crew      4808 non-null   object\n",
      "dtypes: int64(1), object(6)\n",
      "memory usage: 300.5+ KB\n"
     ]
    }
   ],
   "source": [
    "movies_df.info()"
   ]
  },
  {
   "cell_type": "code",
   "execution_count": 8,
   "id": "3cf7894d",
   "metadata": {
    "execution": {
     "iopub.execute_input": "2023-07-23T15:18:40.919393Z",
     "iopub.status.busy": "2023-07-23T15:18:40.918122Z",
     "iopub.status.idle": "2023-07-23T15:18:40.932538Z",
     "shell.execute_reply": "2023-07-23T15:18:40.931764Z"
    },
    "papermill": {
     "duration": 0.027323,
     "end_time": "2023-07-23T15:18:40.934511",
     "exception": false,
     "start_time": "2023-07-23T15:18:40.907188",
     "status": "completed"
    },
    "tags": []
   },
   "outputs": [
    {
     "data": {
      "text/plain": [
       "movie_id    0\n",
       "title       0\n",
       "overview    3\n",
       "genres      0\n",
       "keywords    0\n",
       "cast        0\n",
       "crew        0\n",
       "dtype: int64"
      ]
     },
     "execution_count": 8,
     "metadata": {},
     "output_type": "execute_result"
    }
   ],
   "source": [
    "movies_df.isnull().sum()"
   ]
  },
  {
   "cell_type": "code",
   "execution_count": 9,
   "id": "b026e17a",
   "metadata": {
    "execution": {
     "iopub.execute_input": "2023-07-23T15:18:40.956895Z",
     "iopub.status.busy": "2023-07-23T15:18:40.955154Z",
     "iopub.status.idle": "2023-07-23T15:18:40.969449Z",
     "shell.execute_reply": "2023-07-23T15:18:40.968624Z"
    },
    "papermill": {
     "duration": 0.027702,
     "end_time": "2023-07-23T15:18:40.971819",
     "exception": false,
     "start_time": "2023-07-23T15:18:40.944117",
     "status": "completed"
    },
    "tags": []
   },
   "outputs": [],
   "source": [
    "movies_df.dropna(inplace=True)"
   ]
  },
  {
   "cell_type": "code",
   "execution_count": 10,
   "id": "aca3bfc2",
   "metadata": {
    "execution": {
     "iopub.execute_input": "2023-07-23T15:18:40.994078Z",
     "iopub.status.busy": "2023-07-23T15:18:40.993079Z",
     "iopub.status.idle": "2023-07-23T15:18:41.099639Z",
     "shell.execute_reply": "2023-07-23T15:18:41.098381Z"
    },
    "papermill": {
     "duration": 0.120588,
     "end_time": "2023-07-23T15:18:41.102133",
     "exception": false,
     "start_time": "2023-07-23T15:18:40.981545",
     "status": "completed"
    },
    "tags": []
   },
   "outputs": [
    {
     "data": {
      "text/plain": [
       "0"
      ]
     },
     "execution_count": 10,
     "metadata": {},
     "output_type": "execute_result"
    }
   ],
   "source": [
    "movies_df.duplicated().sum()"
   ]
  },
  {
   "cell_type": "code",
   "execution_count": 11,
   "id": "19ce17fc",
   "metadata": {
    "execution": {
     "iopub.execute_input": "2023-07-23T15:18:41.123481Z",
     "iopub.status.busy": "2023-07-23T15:18:41.123069Z",
     "iopub.status.idle": "2023-07-23T15:18:41.130467Z",
     "shell.execute_reply": "2023-07-23T15:18:41.129484Z"
    },
    "papermill": {
     "duration": 0.020729,
     "end_time": "2023-07-23T15:18:41.132657",
     "exception": false,
     "start_time": "2023-07-23T15:18:41.111928",
     "status": "completed"
    },
    "tags": []
   },
   "outputs": [
    {
     "data": {
      "text/plain": [
       "'[{\"id\": 28, \"name\": \"Action\"}, {\"id\": 12, \"name\": \"Adventure\"}, {\"id\": 14, \"name\": \"Fantasy\"}, {\"id\": 878, \"name\": \"Science Fiction\"}]'"
      ]
     },
     "execution_count": 11,
     "metadata": {},
     "output_type": "execute_result"
    }
   ],
   "source": [
    "movies_df.iloc[0].genres"
   ]
  },
  {
   "cell_type": "code",
   "execution_count": 12,
   "id": "4eda476a",
   "metadata": {
    "execution": {
     "iopub.execute_input": "2023-07-23T15:18:41.154714Z",
     "iopub.status.busy": "2023-07-23T15:18:41.154281Z",
     "iopub.status.idle": "2023-07-23T15:18:41.159178Z",
     "shell.execute_reply": "2023-07-23T15:18:41.158115Z"
    },
    "papermill": {
     "duration": 0.0187,
     "end_time": "2023-07-23T15:18:41.161341",
     "exception": false,
     "start_time": "2023-07-23T15:18:41.142641",
     "status": "completed"
    },
    "tags": []
   },
   "outputs": [],
   "source": [
    "def convert(obj):\n",
    "    L=[]\n",
    "    for i in ast.literal_eval(obj):\n",
    "        L.append(i['name'])\n",
    "    return L"
   ]
  },
  {
   "cell_type": "code",
   "execution_count": 13,
   "id": "54963ce5",
   "metadata": {
    "execution": {
     "iopub.execute_input": "2023-07-23T15:18:41.183588Z",
     "iopub.status.busy": "2023-07-23T15:18:41.182589Z",
     "iopub.status.idle": "2023-07-23T15:18:41.830758Z",
     "shell.execute_reply": "2023-07-23T15:18:41.829495Z"
    },
    "papermill": {
     "duration": 0.661732,
     "end_time": "2023-07-23T15:18:41.833050",
     "exception": false,
     "start_time": "2023-07-23T15:18:41.171318",
     "status": "completed"
    },
    "tags": []
   },
   "outputs": [
    {
     "data": {
      "text/html": [
       "<div>\n",
       "<style scoped>\n",
       "    .dataframe tbody tr th:only-of-type {\n",
       "        vertical-align: middle;\n",
       "    }\n",
       "\n",
       "    .dataframe tbody tr th {\n",
       "        vertical-align: top;\n",
       "    }\n",
       "\n",
       "    .dataframe thead th {\n",
       "        text-align: right;\n",
       "    }\n",
       "</style>\n",
       "<table border=\"1\" class=\"dataframe\">\n",
       "  <thead>\n",
       "    <tr style=\"text-align: right;\">\n",
       "      <th></th>\n",
       "      <th>movie_id</th>\n",
       "      <th>title</th>\n",
       "      <th>overview</th>\n",
       "      <th>genres</th>\n",
       "      <th>keywords</th>\n",
       "      <th>cast</th>\n",
       "      <th>crew</th>\n",
       "    </tr>\n",
       "  </thead>\n",
       "  <tbody>\n",
       "    <tr>\n",
       "      <th>0</th>\n",
       "      <td>19995</td>\n",
       "      <td>Avatar</td>\n",
       "      <td>In the 22nd century, a paraplegic Marine is di...</td>\n",
       "      <td>[Action, Adventure, Fantasy, Science Fiction]</td>\n",
       "      <td>[culture clash, future, space war, space colon...</td>\n",
       "      <td>[{\"cast_id\": 242, \"character\": \"Jake Sully\", \"...</td>\n",
       "      <td>[{\"credit_id\": \"52fe48009251416c750aca23\", \"de...</td>\n",
       "    </tr>\n",
       "    <tr>\n",
       "      <th>1</th>\n",
       "      <td>285</td>\n",
       "      <td>Pirates of the Caribbean: At World's End</td>\n",
       "      <td>Captain Barbossa, long believed to be dead, ha...</td>\n",
       "      <td>[Adventure, Fantasy, Action]</td>\n",
       "      <td>[ocean, drug abuse, exotic island, east india ...</td>\n",
       "      <td>[{\"cast_id\": 4, \"character\": \"Captain Jack Spa...</td>\n",
       "      <td>[{\"credit_id\": \"52fe4232c3a36847f800b579\", \"de...</td>\n",
       "    </tr>\n",
       "    <tr>\n",
       "      <th>2</th>\n",
       "      <td>206647</td>\n",
       "      <td>Spectre</td>\n",
       "      <td>A cryptic message from Bond’s past sends him o...</td>\n",
       "      <td>[Action, Adventure, Crime]</td>\n",
       "      <td>[spy, based on novel, secret agent, sequel, mi...</td>\n",
       "      <td>[{\"cast_id\": 1, \"character\": \"James Bond\", \"cr...</td>\n",
       "      <td>[{\"credit_id\": \"54805967c3a36829b5002c41\", \"de...</td>\n",
       "    </tr>\n",
       "    <tr>\n",
       "      <th>3</th>\n",
       "      <td>49026</td>\n",
       "      <td>The Dark Knight Rises</td>\n",
       "      <td>Following the death of District Attorney Harve...</td>\n",
       "      <td>[Action, Crime, Drama, Thriller]</td>\n",
       "      <td>[dc comics, crime fighter, terrorist, secret i...</td>\n",
       "      <td>[{\"cast_id\": 2, \"character\": \"Bruce Wayne / Ba...</td>\n",
       "      <td>[{\"credit_id\": \"52fe4781c3a36847f81398c3\", \"de...</td>\n",
       "    </tr>\n",
       "    <tr>\n",
       "      <th>4</th>\n",
       "      <td>49529</td>\n",
       "      <td>John Carter</td>\n",
       "      <td>John Carter is a war-weary, former military ca...</td>\n",
       "      <td>[Action, Adventure, Science Fiction]</td>\n",
       "      <td>[based on novel, mars, medallion, space travel...</td>\n",
       "      <td>[{\"cast_id\": 5, \"character\": \"John Carter\", \"c...</td>\n",
       "      <td>[{\"credit_id\": \"52fe479ac3a36847f813eaa3\", \"de...</td>\n",
       "    </tr>\n",
       "  </tbody>\n",
       "</table>\n",
       "</div>"
      ],
      "text/plain": [
       "   movie_id                                     title  \\\n",
       "0     19995                                    Avatar   \n",
       "1       285  Pirates of the Caribbean: At World's End   \n",
       "2    206647                                   Spectre   \n",
       "3     49026                     The Dark Knight Rises   \n",
       "4     49529                               John Carter   \n",
       "\n",
       "                                            overview  \\\n",
       "0  In the 22nd century, a paraplegic Marine is di...   \n",
       "1  Captain Barbossa, long believed to be dead, ha...   \n",
       "2  A cryptic message from Bond’s past sends him o...   \n",
       "3  Following the death of District Attorney Harve...   \n",
       "4  John Carter is a war-weary, former military ca...   \n",
       "\n",
       "                                          genres  \\\n",
       "0  [Action, Adventure, Fantasy, Science Fiction]   \n",
       "1                   [Adventure, Fantasy, Action]   \n",
       "2                     [Action, Adventure, Crime]   \n",
       "3               [Action, Crime, Drama, Thriller]   \n",
       "4           [Action, Adventure, Science Fiction]   \n",
       "\n",
       "                                            keywords  \\\n",
       "0  [culture clash, future, space war, space colon...   \n",
       "1  [ocean, drug abuse, exotic island, east india ...   \n",
       "2  [spy, based on novel, secret agent, sequel, mi...   \n",
       "3  [dc comics, crime fighter, terrorist, secret i...   \n",
       "4  [based on novel, mars, medallion, space travel...   \n",
       "\n",
       "                                                cast  \\\n",
       "0  [{\"cast_id\": 242, \"character\": \"Jake Sully\", \"...   \n",
       "1  [{\"cast_id\": 4, \"character\": \"Captain Jack Spa...   \n",
       "2  [{\"cast_id\": 1, \"character\": \"James Bond\", \"cr...   \n",
       "3  [{\"cast_id\": 2, \"character\": \"Bruce Wayne / Ba...   \n",
       "4  [{\"cast_id\": 5, \"character\": \"John Carter\", \"c...   \n",
       "\n",
       "                                                crew  \n",
       "0  [{\"credit_id\": \"52fe48009251416c750aca23\", \"de...  \n",
       "1  [{\"credit_id\": \"52fe4232c3a36847f800b579\", \"de...  \n",
       "2  [{\"credit_id\": \"54805967c3a36829b5002c41\", \"de...  \n",
       "3  [{\"credit_id\": \"52fe4781c3a36847f81398c3\", \"de...  \n",
       "4  [{\"credit_id\": \"52fe479ac3a36847f813eaa3\", \"de...  "
      ]
     },
     "execution_count": 13,
     "metadata": {},
     "output_type": "execute_result"
    }
   ],
   "source": [
    "movies_df['genres']=movies_df['genres'].apply(convert)\n",
    "movies_df['keywords']=movies_df['keywords'].apply(convert)\n",
    "movies_df.head()"
   ]
  },
  {
   "cell_type": "code",
   "execution_count": 14,
   "id": "1ef402f9",
   "metadata": {
    "execution": {
     "iopub.execute_input": "2023-07-23T15:18:41.855453Z",
     "iopub.status.busy": "2023-07-23T15:18:41.854867Z",
     "iopub.status.idle": "2023-07-23T15:18:41.859502Z",
     "shell.execute_reply": "2023-07-23T15:18:41.858771Z"
    },
    "papermill": {
     "duration": 0.01835,
     "end_time": "2023-07-23T15:18:41.861528",
     "exception": false,
     "start_time": "2023-07-23T15:18:41.843178",
     "status": "completed"
    },
    "tags": []
   },
   "outputs": [],
   "source": [
    "def convert3(obj):\n",
    "    L=[]\n",
    "    counter = 0\n",
    "    for i in ast.literal_eval(obj):\n",
    "        if counter !=3:\n",
    "            L.append(i['name'])\n",
    "            counter+=1\n",
    "        else:\n",
    "            break\n",
    "    return L"
   ]
  },
  {
   "cell_type": "code",
   "execution_count": 15,
   "id": "d5ea9d62",
   "metadata": {
    "execution": {
     "iopub.execute_input": "2023-07-23T15:18:41.884059Z",
     "iopub.status.busy": "2023-07-23T15:18:41.883416Z",
     "iopub.status.idle": "2023-07-23T15:18:45.672032Z",
     "shell.execute_reply": "2023-07-23T15:18:45.670928Z"
    },
    "papermill": {
     "duration": 3.802801,
     "end_time": "2023-07-23T15:18:45.674590",
     "exception": false,
     "start_time": "2023-07-23T15:18:41.871789",
     "status": "completed"
    },
    "tags": []
   },
   "outputs": [],
   "source": [
    "movies_df['cast']=movies_df['cast'].apply(convert3)"
   ]
  },
  {
   "cell_type": "code",
   "execution_count": 16,
   "id": "bf3faa91",
   "metadata": {
    "execution": {
     "iopub.execute_input": "2023-07-23T15:18:45.697313Z",
     "iopub.status.busy": "2023-07-23T15:18:45.696871Z",
     "iopub.status.idle": "2023-07-23T15:18:45.702508Z",
     "shell.execute_reply": "2023-07-23T15:18:45.701211Z"
    },
    "papermill": {
     "duration": 0.019492,
     "end_time": "2023-07-23T15:18:45.704609",
     "exception": false,
     "start_time": "2023-07-23T15:18:45.685117",
     "status": "completed"
    },
    "tags": []
   },
   "outputs": [],
   "source": [
    "def fetch_director(obj):\n",
    "    L=[]\n",
    "    for i in ast.literal_eval(obj):\n",
    "        if i['job']=='Director':\n",
    "            L.append(i['name'])\n",
    "        return L"
   ]
  },
  {
   "cell_type": "code",
   "execution_count": 17,
   "id": "59b11b5e",
   "metadata": {
    "execution": {
     "iopub.execute_input": "2023-07-23T15:18:45.727451Z",
     "iopub.status.busy": "2023-07-23T15:18:45.726538Z",
     "iopub.status.idle": "2023-07-23T15:18:49.779100Z",
     "shell.execute_reply": "2023-07-23T15:18:49.777868Z"
    },
    "papermill": {
     "duration": 4.066807,
     "end_time": "2023-07-23T15:18:49.781781",
     "exception": false,
     "start_time": "2023-07-23T15:18:45.714974",
     "status": "completed"
    },
    "tags": []
   },
   "outputs": [],
   "source": [
    "movies_df['crew']= movies_df['crew'].apply(fetch_director)"
   ]
  },
  {
   "cell_type": "code",
   "execution_count": 18,
   "id": "06f64ccd",
   "metadata": {
    "execution": {
     "iopub.execute_input": "2023-07-23T15:18:49.804157Z",
     "iopub.status.busy": "2023-07-23T15:18:49.803721Z",
     "iopub.status.idle": "2023-07-23T15:18:49.811257Z",
     "shell.execute_reply": "2023-07-23T15:18:49.810181Z"
    },
    "papermill": {
     "duration": 0.02139,
     "end_time": "2023-07-23T15:18:49.813546",
     "exception": false,
     "start_time": "2023-07-23T15:18:49.792156",
     "status": "completed"
    },
    "tags": []
   },
   "outputs": [
    {
     "data": {
      "text/plain": [
       "'In the 22nd century, a paraplegic Marine is dispatched to the moon Pandora on a unique mission, but becomes torn between following orders and protecting an alien civilization.'"
      ]
     },
     "execution_count": 18,
     "metadata": {},
     "output_type": "execute_result"
    }
   ],
   "source": [
    "movies_df['overview'][0]"
   ]
  },
  {
   "cell_type": "code",
   "execution_count": 19,
   "id": "fae7c054",
   "metadata": {
    "execution": {
     "iopub.execute_input": "2023-07-23T15:18:49.835883Z",
     "iopub.status.busy": "2023-07-23T15:18:49.835460Z",
     "iopub.status.idle": "2023-07-23T15:18:49.873106Z",
     "shell.execute_reply": "2023-07-23T15:18:49.871923Z"
    },
    "papermill": {
     "duration": 0.051661,
     "end_time": "2023-07-23T15:18:49.875628",
     "exception": false,
     "start_time": "2023-07-23T15:18:49.823967",
     "status": "completed"
    },
    "tags": []
   },
   "outputs": [],
   "source": [
    "movies_df['overview']=movies_df['overview'].apply(lambda x:x.split())"
   ]
  },
  {
   "cell_type": "code",
   "execution_count": 20,
   "id": "71e0cb65",
   "metadata": {
    "execution": {
     "iopub.execute_input": "2023-07-23T15:18:49.898139Z",
     "iopub.status.busy": "2023-07-23T15:18:49.897722Z",
     "iopub.status.idle": "2023-07-23T15:18:49.938637Z",
     "shell.execute_reply": "2023-07-23T15:18:49.937612Z"
    },
    "papermill": {
     "duration": 0.05497,
     "end_time": "2023-07-23T15:18:49.941124",
     "exception": false,
     "start_time": "2023-07-23T15:18:49.886154",
     "status": "completed"
    },
    "tags": []
   },
   "outputs": [],
   "source": [
    "movies_df['genres']=movies_df['genres'].apply(lambda x:[i.replace(\" \",\"\") for i in x])\n",
    "movies_df['keywords']=movies_df['keywords'].apply(lambda x:[i.replace(\" \",\"\") for i in x])\n",
    "movies_df['cast']=movies_df['cast'].apply(lambda x:[i.replace(\" \",\"\") for i in x])"
   ]
  },
  {
   "cell_type": "code",
   "execution_count": 21,
   "id": "d1d02298",
   "metadata": {
    "execution": {
     "iopub.execute_input": "2023-07-23T15:18:49.964008Z",
     "iopub.status.busy": "2023-07-23T15:18:49.963578Z",
     "iopub.status.idle": "2023-07-23T15:18:50.181499Z",
     "shell.execute_reply": "2023-07-23T15:18:50.180276Z"
    },
    "papermill": {
     "duration": 0.232213,
     "end_time": "2023-07-23T15:18:50.184148",
     "exception": false,
     "start_time": "2023-07-23T15:18:49.951935",
     "status": "completed"
    },
    "tags": []
   },
   "outputs": [],
   "source": [
    "movies_df['tags']=movies_df['overview']+movies_df['genres']+movies_df['keywords']+movies_df['cast']"
   ]
  },
  {
   "cell_type": "code",
   "execution_count": 22,
   "id": "1a7ace8b",
   "metadata": {
    "execution": {
     "iopub.execute_input": "2023-07-23T15:18:50.206535Z",
     "iopub.status.busy": "2023-07-23T15:18:50.206117Z",
     "iopub.status.idle": "2023-07-23T15:18:50.213908Z",
     "shell.execute_reply": "2023-07-23T15:18:50.213084Z"
    },
    "papermill": {
     "duration": 0.02153,
     "end_time": "2023-07-23T15:18:50.216149",
     "exception": false,
     "start_time": "2023-07-23T15:18:50.194619",
     "status": "completed"
    },
    "tags": []
   },
   "outputs": [],
   "source": [
    "new_df=movies_df[['movie_id','title','tags']]"
   ]
  },
  {
   "cell_type": "code",
   "execution_count": 23,
   "id": "dfea8a3b",
   "metadata": {
    "execution": {
     "iopub.execute_input": "2023-07-23T15:18:50.239012Z",
     "iopub.status.busy": "2023-07-23T15:18:50.238371Z",
     "iopub.status.idle": "2023-07-23T15:18:50.246359Z",
     "shell.execute_reply": "2023-07-23T15:18:50.245217Z"
    },
    "papermill": {
     "duration": 0.022341,
     "end_time": "2023-07-23T15:18:50.249032",
     "exception": false,
     "start_time": "2023-07-23T15:18:50.226691",
     "status": "completed"
    },
    "tags": []
   },
   "outputs": [
    {
     "name": "stdout",
     "output_type": "stream",
     "text": [
      "0    [In, the, 22nd, century,, a, paraplegic, Marin...\n",
      "1    [Captain, Barbossa,, long, believed, to, be, d...\n",
      "2    [A, cryptic, message, from, Bond’s, past, send...\n",
      "3    [Following, the, death, of, District, Attorney...\n",
      "4    [John, Carter, is, a, war-weary,, former, mili...\n",
      "Name: tags, dtype: object\n"
     ]
    }
   ],
   "source": [
    "print(new_df['tags'].head())"
   ]
  },
  {
   "cell_type": "code",
   "execution_count": 24,
   "id": "0a26d94a",
   "metadata": {
    "execution": {
     "iopub.execute_input": "2023-07-23T15:18:50.273204Z",
     "iopub.status.busy": "2023-07-23T15:18:50.272346Z",
     "iopub.status.idle": "2023-07-23T15:18:50.292471Z",
     "shell.execute_reply": "2023-07-23T15:18:50.291547Z"
    },
    "papermill": {
     "duration": 0.035065,
     "end_time": "2023-07-23T15:18:50.294693",
     "exception": false,
     "start_time": "2023-07-23T15:18:50.259628",
     "status": "completed"
    },
    "tags": []
   },
   "outputs": [
    {
     "name": "stderr",
     "output_type": "stream",
     "text": [
      "/tmp/ipykernel_20/677459065.py:1: SettingWithCopyWarning: \n",
      "A value is trying to be set on a copy of a slice from a DataFrame.\n",
      "Try using .loc[row_indexer,col_indexer] = value instead\n",
      "\n",
      "See the caveats in the documentation: https://pandas.pydata.org/pandas-docs/stable/user_guide/indexing.html#returning-a-view-versus-a-copy\n",
      "  new_df['tags']=new_df['tags'].apply(lambda x:' '.join(x))\n"
     ]
    }
   ],
   "source": [
    "new_df['tags']=new_df['tags'].apply(lambda x:' '.join(x))\n"
   ]
  },
  {
   "cell_type": "code",
   "execution_count": 25,
   "id": "abe07ac2",
   "metadata": {
    "execution": {
     "iopub.execute_input": "2023-07-23T15:18:50.317920Z",
     "iopub.status.busy": "2023-07-23T15:18:50.317276Z",
     "iopub.status.idle": "2023-07-23T15:18:50.339674Z",
     "shell.execute_reply": "2023-07-23T15:18:50.338472Z"
    },
    "papermill": {
     "duration": 0.036595,
     "end_time": "2023-07-23T15:18:50.341842",
     "exception": false,
     "start_time": "2023-07-23T15:18:50.305247",
     "status": "completed"
    },
    "tags": []
   },
   "outputs": [
    {
     "name": "stderr",
     "output_type": "stream",
     "text": [
      "/tmp/ipykernel_20/4278041859.py:1: SettingWithCopyWarning: \n",
      "A value is trying to be set on a copy of a slice from a DataFrame.\n",
      "Try using .loc[row_indexer,col_indexer] = value instead\n",
      "\n",
      "See the caveats in the documentation: https://pandas.pydata.org/pandas-docs/stable/user_guide/indexing.html#returning-a-view-versus-a-copy\n",
      "  new_df['tags']=new_df['tags'].apply(lambda X:X.lower())\n"
     ]
    },
    {
     "data": {
      "text/html": [
       "<div>\n",
       "<style scoped>\n",
       "    .dataframe tbody tr th:only-of-type {\n",
       "        vertical-align: middle;\n",
       "    }\n",
       "\n",
       "    .dataframe tbody tr th {\n",
       "        vertical-align: top;\n",
       "    }\n",
       "\n",
       "    .dataframe thead th {\n",
       "        text-align: right;\n",
       "    }\n",
       "</style>\n",
       "<table border=\"1\" class=\"dataframe\">\n",
       "  <thead>\n",
       "    <tr style=\"text-align: right;\">\n",
       "      <th></th>\n",
       "      <th>movie_id</th>\n",
       "      <th>title</th>\n",
       "      <th>tags</th>\n",
       "    </tr>\n",
       "  </thead>\n",
       "  <tbody>\n",
       "    <tr>\n",
       "      <th>0</th>\n",
       "      <td>19995</td>\n",
       "      <td>Avatar</td>\n",
       "      <td>in the 22nd century, a paraplegic marine is di...</td>\n",
       "    </tr>\n",
       "    <tr>\n",
       "      <th>1</th>\n",
       "      <td>285</td>\n",
       "      <td>Pirates of the Caribbean: At World's End</td>\n",
       "      <td>captain barbossa, long believed to be dead, ha...</td>\n",
       "    </tr>\n",
       "    <tr>\n",
       "      <th>2</th>\n",
       "      <td>206647</td>\n",
       "      <td>Spectre</td>\n",
       "      <td>a cryptic message from bond’s past sends him o...</td>\n",
       "    </tr>\n",
       "    <tr>\n",
       "      <th>3</th>\n",
       "      <td>49026</td>\n",
       "      <td>The Dark Knight Rises</td>\n",
       "      <td>following the death of district attorney harve...</td>\n",
       "    </tr>\n",
       "    <tr>\n",
       "      <th>4</th>\n",
       "      <td>49529</td>\n",
       "      <td>John Carter</td>\n",
       "      <td>john carter is a war-weary, former military ca...</td>\n",
       "    </tr>\n",
       "  </tbody>\n",
       "</table>\n",
       "</div>"
      ],
      "text/plain": [
       "   movie_id                                     title  \\\n",
       "0     19995                                    Avatar   \n",
       "1       285  Pirates of the Caribbean: At World's End   \n",
       "2    206647                                   Spectre   \n",
       "3     49026                     The Dark Knight Rises   \n",
       "4     49529                               John Carter   \n",
       "\n",
       "                                                tags  \n",
       "0  in the 22nd century, a paraplegic marine is di...  \n",
       "1  captain barbossa, long believed to be dead, ha...  \n",
       "2  a cryptic message from bond’s past sends him o...  \n",
       "3  following the death of district attorney harve...  \n",
       "4  john carter is a war-weary, former military ca...  "
      ]
     },
     "execution_count": 25,
     "metadata": {},
     "output_type": "execute_result"
    }
   ],
   "source": [
    "new_df['tags']=new_df['tags'].apply(lambda X:X.lower())\n",
    "new_df.head()"
   ]
  },
  {
   "cell_type": "code",
   "execution_count": 26,
   "id": "72212345",
   "metadata": {
    "execution": {
     "iopub.execute_input": "2023-07-23T15:18:50.365414Z",
     "iopub.status.busy": "2023-07-23T15:18:50.364988Z",
     "iopub.status.idle": "2023-07-23T15:18:50.369923Z",
     "shell.execute_reply": "2023-07-23T15:18:50.368757Z"
    },
    "papermill": {
     "duration": 0.019229,
     "end_time": "2023-07-23T15:18:50.371944",
     "exception": false,
     "start_time": "2023-07-23T15:18:50.352715",
     "status": "completed"
    },
    "tags": []
   },
   "outputs": [],
   "source": [
    "cv=CountVectorizer(max_features= 5000, stop_words='english')"
   ]
  },
  {
   "cell_type": "code",
   "execution_count": 27,
   "id": "dcd42bdf",
   "metadata": {
    "execution": {
     "iopub.execute_input": "2023-07-23T15:18:50.395652Z",
     "iopub.status.busy": "2023-07-23T15:18:50.395192Z",
     "iopub.status.idle": "2023-07-23T15:18:50.923991Z",
     "shell.execute_reply": "2023-07-23T15:18:50.922715Z"
    },
    "papermill": {
     "duration": 0.54393,
     "end_time": "2023-07-23T15:18:50.926778",
     "exception": false,
     "start_time": "2023-07-23T15:18:50.382848",
     "status": "completed"
    },
    "tags": []
   },
   "outputs": [
    {
     "data": {
      "text/plain": [
       "(4805, 5000)"
      ]
     },
     "execution_count": 27,
     "metadata": {},
     "output_type": "execute_result"
    }
   ],
   "source": [
    "cv.fit_transform(new_df['tags']).toarray().shape"
   ]
  },
  {
   "cell_type": "code",
   "execution_count": 28,
   "id": "f3645cb2",
   "metadata": {
    "execution": {
     "iopub.execute_input": "2023-07-23T15:18:50.951162Z",
     "iopub.status.busy": "2023-07-23T15:18:50.950729Z",
     "iopub.status.idle": "2023-07-23T15:18:51.441664Z",
     "shell.execute_reply": "2023-07-23T15:18:51.440311Z"
    },
    "papermill": {
     "duration": 0.506689,
     "end_time": "2023-07-23T15:18:51.444737",
     "exception": false,
     "start_time": "2023-07-23T15:18:50.938048",
     "status": "completed"
    },
    "tags": []
   },
   "outputs": [],
   "source": [
    "vectors= cv.fit_transform(new_df['tags']).toarray()"
   ]
  },
  {
   "cell_type": "code",
   "execution_count": 29,
   "id": "78701060",
   "metadata": {
    "execution": {
     "iopub.execute_input": "2023-07-23T15:18:51.468249Z",
     "iopub.status.busy": "2023-07-23T15:18:51.467847Z",
     "iopub.status.idle": "2023-07-23T15:18:51.475108Z",
     "shell.execute_reply": "2023-07-23T15:18:51.473793Z"
    },
    "papermill": {
     "duration": 0.021632,
     "end_time": "2023-07-23T15:18:51.477316",
     "exception": false,
     "start_time": "2023-07-23T15:18:51.455684",
     "status": "completed"
    },
    "tags": []
   },
   "outputs": [
    {
     "data": {
      "text/plain": [
       "array([0, 0, 0, ..., 0, 0, 0])"
      ]
     },
     "execution_count": 29,
     "metadata": {},
     "output_type": "execute_result"
    }
   ],
   "source": [
    "vectors[0]"
   ]
  },
  {
   "cell_type": "code",
   "execution_count": 30,
   "id": "23748c8e",
   "metadata": {
    "execution": {
     "iopub.execute_input": "2023-07-23T15:18:51.501053Z",
     "iopub.status.busy": "2023-07-23T15:18:51.500651Z",
     "iopub.status.idle": "2023-07-23T15:18:51.505815Z",
     "shell.execute_reply": "2023-07-23T15:18:51.504506Z"
    },
    "papermill": {
     "duration": 0.01972,
     "end_time": "2023-07-23T15:18:51.508069",
     "exception": false,
     "start_time": "2023-07-23T15:18:51.488349",
     "status": "completed"
    },
    "tags": []
   },
   "outputs": [],
   "source": [
    "ps=PorterStemmer()"
   ]
  },
  {
   "cell_type": "code",
   "execution_count": 31,
   "id": "730be90b",
   "metadata": {
    "execution": {
     "iopub.execute_input": "2023-07-23T15:18:51.532292Z",
     "iopub.status.busy": "2023-07-23T15:18:51.531886Z",
     "iopub.status.idle": "2023-07-23T15:18:51.537749Z",
     "shell.execute_reply": "2023-07-23T15:18:51.536546Z"
    },
    "papermill": {
     "duration": 0.020637,
     "end_time": "2023-07-23T15:18:51.540013",
     "exception": false,
     "start_time": "2023-07-23T15:18:51.519376",
     "status": "completed"
    },
    "tags": []
   },
   "outputs": [],
   "source": [
    "def stem(text):\n",
    "    y=[]\n",
    "    for i in text.split():\n",
    "        y.append(ps.stem(i))\n",
    "    return \" \".join(y)"
   ]
  },
  {
   "cell_type": "code",
   "execution_count": 32,
   "id": "f5bb5571",
   "metadata": {
    "execution": {
     "iopub.execute_input": "2023-07-23T15:18:51.564165Z",
     "iopub.status.busy": "2023-07-23T15:18:51.563719Z",
     "iopub.status.idle": "2023-07-23T15:18:58.748056Z",
     "shell.execute_reply": "2023-07-23T15:18:58.746946Z"
    },
    "papermill": {
     "duration": 7.199132,
     "end_time": "2023-07-23T15:18:58.750337",
     "exception": false,
     "start_time": "2023-07-23T15:18:51.551205",
     "status": "completed"
    },
    "tags": []
   },
   "outputs": [
    {
     "name": "stderr",
     "output_type": "stream",
     "text": [
      "/tmp/ipykernel_20/3514595201.py:1: SettingWithCopyWarning: \n",
      "A value is trying to be set on a copy of a slice from a DataFrame.\n",
      "Try using .loc[row_indexer,col_indexer] = value instead\n",
      "\n",
      "See the caveats in the documentation: https://pandas.pydata.org/pandas-docs/stable/user_guide/indexing.html#returning-a-view-versus-a-copy\n",
      "  new_df['tags']=new_df['tags'].apply(stem)\n"
     ]
    }
   ],
   "source": [
    "new_df['tags']=new_df['tags'].apply(stem)"
   ]
  },
  {
   "cell_type": "code",
   "execution_count": 33,
   "id": "54659cdd",
   "metadata": {
    "execution": {
     "iopub.execute_input": "2023-07-23T15:18:58.774335Z",
     "iopub.status.busy": "2023-07-23T15:18:58.773906Z",
     "iopub.status.idle": "2023-07-23T15:19:00.779802Z",
     "shell.execute_reply": "2023-07-23T15:19:00.778659Z"
    },
    "papermill": {
     "duration": 2.020839,
     "end_time": "2023-07-23T15:19:00.782207",
     "exception": false,
     "start_time": "2023-07-23T15:18:58.761368",
     "status": "completed"
    },
    "tags": []
   },
   "outputs": [
    {
     "data": {
      "text/plain": [
       "array([[1.        , 0.08980265, 0.05986843, ..., 0.0248452 , 0.02777778,\n",
       "        0.        ],\n",
       "       [0.08980265, 1.        , 0.06451613, ..., 0.02677398, 0.        ,\n",
       "        0.        ],\n",
       "       [0.05986843, 0.06451613, 1.        , ..., 0.02677398, 0.        ,\n",
       "        0.        ],\n",
       "       ...,\n",
       "       [0.0248452 , 0.02677398, 0.02677398, ..., 1.        , 0.0745356 ,\n",
       "        0.04836508],\n",
       "       [0.02777778, 0.        , 0.        , ..., 0.0745356 , 1.        ,\n",
       "        0.05407381],\n",
       "       [0.        , 0.        , 0.        , ..., 0.04836508, 0.05407381,\n",
       "        1.        ]])"
      ]
     },
     "execution_count": 33,
     "metadata": {},
     "output_type": "execute_result"
    }
   ],
   "source": [
    "\n",
    "cosine_similarity(vectors)"
   ]
  },
  {
   "cell_type": "code",
   "execution_count": 34,
   "id": "4ed5c456",
   "metadata": {
    "execution": {
     "iopub.execute_input": "2023-07-23T15:19:00.806341Z",
     "iopub.status.busy": "2023-07-23T15:19:00.805935Z",
     "iopub.status.idle": "2023-07-23T15:19:02.784376Z",
     "shell.execute_reply": "2023-07-23T15:19:02.783513Z"
    },
    "papermill": {
     "duration": 1.993684,
     "end_time": "2023-07-23T15:19:02.787137",
     "exception": false,
     "start_time": "2023-07-23T15:19:00.793453",
     "status": "completed"
    },
    "tags": []
   },
   "outputs": [
    {
     "data": {
      "text/plain": [
       "(4805, 4805)"
      ]
     },
     "execution_count": 34,
     "metadata": {},
     "output_type": "execute_result"
    }
   ],
   "source": [
    "cosine_similarity(vectors).shape"
   ]
  },
  {
   "cell_type": "code",
   "execution_count": 35,
   "id": "98bc5290",
   "metadata": {
    "execution": {
     "iopub.execute_input": "2023-07-23T15:19:02.814064Z",
     "iopub.status.busy": "2023-07-23T15:19:02.812254Z",
     "iopub.status.idle": "2023-07-23T15:19:04.790319Z",
     "shell.execute_reply": "2023-07-23T15:19:04.789059Z"
    },
    "papermill": {
     "duration": 1.994974,
     "end_time": "2023-07-23T15:19:04.793962",
     "exception": false,
     "start_time": "2023-07-23T15:19:02.798988",
     "status": "completed"
    },
    "tags": []
   },
   "outputs": [],
   "source": [
    "similarity= cosine_similarity(vectors)"
   ]
  },
  {
   "cell_type": "code",
   "execution_count": 36,
   "id": "01549f36",
   "metadata": {
    "execution": {
     "iopub.execute_input": "2023-07-23T15:19:04.818258Z",
     "iopub.status.busy": "2023-07-23T15:19:04.817854Z",
     "iopub.status.idle": "2023-07-23T15:19:04.824577Z",
     "shell.execute_reply": "2023-07-23T15:19:04.823503Z"
    },
    "papermill": {
     "duration": 0.021588,
     "end_time": "2023-07-23T15:19:04.826852",
     "exception": false,
     "start_time": "2023-07-23T15:19:04.805264",
     "status": "completed"
    },
    "tags": []
   },
   "outputs": [
    {
     "data": {
      "text/plain": [
       "array([1.        , 0.08980265, 0.05986843, ..., 0.0248452 , 0.02777778,\n",
       "       0.        ])"
      ]
     },
     "execution_count": 36,
     "metadata": {},
     "output_type": "execute_result"
    }
   ],
   "source": [
    "similarity[0]"
   ]
  },
  {
   "cell_type": "code",
   "execution_count": 37,
   "id": "8f512b07",
   "metadata": {
    "execution": {
     "iopub.execute_input": "2023-07-23T15:19:04.851219Z",
     "iopub.status.busy": "2023-07-23T15:19:04.850134Z",
     "iopub.status.idle": "2023-07-23T15:19:04.856493Z",
     "shell.execute_reply": "2023-07-23T15:19:04.855376Z"
    },
    "papermill": {
     "duration": 0.020681,
     "end_time": "2023-07-23T15:19:04.858528",
     "exception": false,
     "start_time": "2023-07-23T15:19:04.837847",
     "status": "completed"
    },
    "tags": []
   },
   "outputs": [
    {
     "data": {
      "text/plain": [
       "(4805,)"
      ]
     },
     "execution_count": 37,
     "metadata": {},
     "output_type": "execute_result"
    }
   ],
   "source": [
    "similarity[0].shape"
   ]
  },
  {
   "cell_type": "code",
   "execution_count": 38,
   "id": "3128a569",
   "metadata": {
    "execution": {
     "iopub.execute_input": "2023-07-23T15:19:04.883263Z",
     "iopub.status.busy": "2023-07-23T15:19:04.882860Z",
     "iopub.status.idle": "2023-07-23T15:19:04.893567Z",
     "shell.execute_reply": "2023-07-23T15:19:04.892362Z"
    },
    "papermill": {
     "duration": 0.025652,
     "end_time": "2023-07-23T15:19:04.895730",
     "exception": false,
     "start_time": "2023-07-23T15:19:04.870078",
     "status": "completed"
    },
    "tags": []
   },
   "outputs": [
    {
     "data": {
      "text/plain": [
       "[(539, 0.25724787771376323),\n",
       " (1194, 0.2545875386086578),\n",
       " (507, 0.24720661623652207),\n",
       " (1216, 0.24595492912420727),\n",
       " (582, 0.2405626121623441)]"
      ]
     },
     "execution_count": 38,
     "metadata": {},
     "output_type": "execute_result"
    }
   ],
   "source": [
    "sorted(list(enumerate(similarity[0])), reverse= True, key=lambda x:x[1])[1:6]"
   ]
  },
  {
   "cell_type": "code",
   "execution_count": 39,
   "id": "ee107759",
   "metadata": {
    "execution": {
     "iopub.execute_input": "2023-07-23T15:19:04.921193Z",
     "iopub.status.busy": "2023-07-23T15:19:04.920069Z",
     "iopub.status.idle": "2023-07-23T15:19:04.926476Z",
     "shell.execute_reply": "2023-07-23T15:19:04.925643Z"
    },
    "papermill": {
     "duration": 0.021258,
     "end_time": "2023-07-23T15:19:04.928633",
     "exception": false,
     "start_time": "2023-07-23T15:19:04.907375",
     "status": "completed"
    },
    "tags": []
   },
   "outputs": [],
   "source": [
    "def recommend(movie):\n",
    "    movie_index=new_df[new_df['title']==movie].index[0]\n",
    "    distances=similarity[movie_index]\n",
    "    movies_list=sorted(list(enumerate(distances)), reverse= True, key=lambda x:x[1])[1:6]\n",
    "    \n",
    "    for i in movies_list:\n",
    "        print(new_df.iloc[i[0]].title)"
   ]
  },
  {
   "cell_type": "code",
   "execution_count": 40,
   "id": "eebc7563",
   "metadata": {
    "execution": {
     "iopub.execute_input": "2023-07-23T15:19:04.953546Z",
     "iopub.status.busy": "2023-07-23T15:19:04.952922Z",
     "iopub.status.idle": "2023-07-23T15:19:04.963686Z",
     "shell.execute_reply": "2023-07-23T15:19:04.962537Z"
    },
    "papermill": {
     "duration": 0.025687,
     "end_time": "2023-07-23T15:19:04.965731",
     "exception": false,
     "start_time": "2023-07-23T15:19:04.940044",
     "status": "completed"
    },
    "tags": []
   },
   "outputs": [
    {
     "name": "stdout",
     "output_type": "stream",
     "text": [
      "Iron Man 2\n",
      "Iron Man 3\n",
      "Avengers: Age of Ultron\n",
      "Captain America: Civil War\n",
      "The Avengers\n"
     ]
    }
   ],
   "source": [
    "recommend('Iron Man')"
   ]
  },
  {
   "cell_type": "code",
   "execution_count": 41,
   "id": "c3812b39",
   "metadata": {
    "execution": {
     "iopub.execute_input": "2023-07-23T15:19:04.990597Z",
     "iopub.status.busy": "2023-07-23T15:19:04.990139Z",
     "iopub.status.idle": "2023-07-23T15:19:05.001188Z",
     "shell.execute_reply": "2023-07-23T15:19:05.000015Z"
    },
    "papermill": {
     "duration": 0.026498,
     "end_time": "2023-07-23T15:19:05.003770",
     "exception": false,
     "start_time": "2023-07-23T15:19:04.977272",
     "status": "completed"
    },
    "tags": []
   },
   "outputs": [
    {
     "name": "stdout",
     "output_type": "stream",
     "text": [
      "Titan A.E.\n",
      "Small Soldiers\n",
      "Independence Day\n",
      "Aliens vs Predator: Requiem\n",
      "Battle: Los Angeles\n"
     ]
    }
   ],
   "source": [
    "recommend('Avatar')"
   ]
  }
 ],
 "metadata": {
  "kernelspec": {
   "display_name": "Python 3",
   "language": "python",
   "name": "python3"
  },
  "language_info": {
   "codemirror_mode": {
    "name": "ipython",
    "version": 3
   },
   "file_extension": ".py",
   "mimetype": "text/x-python",
   "name": "python",
   "nbconvert_exporter": "python",
   "pygments_lexer": "ipython3",
   "version": "3.10.12"
  },
  "papermill": {
   "default_parameters": {},
   "duration": 39.093396,
   "end_time": "2023-07-23T15:19:06.040193",
   "environment_variables": {},
   "exception": null,
   "input_path": "__notebook__.ipynb",
   "output_path": "__notebook__.ipynb",
   "parameters": {},
   "start_time": "2023-07-23T15:18:26.946797",
   "version": "2.4.0"
  }
 },
 "nbformat": 4,
 "nbformat_minor": 5
}
